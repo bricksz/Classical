{
 "cells": [
  {
   "cell_type": "code",
   "execution_count": 1,
   "metadata": {},
   "outputs": [],
   "source": [
    "import numpy as np\n",
    "import pandas as pd\n",
    "import matplotlib.pyplot as plt"
   ]
  },
  {
   "cell_type": "code",
   "execution_count": 2,
   "metadata": {},
   "outputs": [],
   "source": [
    "def formating_unc(value, unc, title):\n",
    "    structure = '{0:.7f} ± {1:.7f}'\n",
    "    print(title)\n",
    "    for i,j in zip(value,unc):\n",
    "        print(structure.format(i,j))\n",
    "        \n",
    "def func_pressure(force,force_unc,area,area_unc,pressure_atm):\n",
    "    pressure = force/area + pressure_atm\n",
    "    pressure_unc_pct = np.sqrt((force_unc/force)**2+(area_unc/area)**2)\n",
    "    pressure_unc = pressure * pressure_unc_pct\n",
    "    return pressure, pressure_unc\n",
    "\n",
    "def func_area()"
   ]
  },
  {
   "cell_type": "markdown",
   "metadata": {},
   "source": [
    "### Given values"
   ]
  },
  {
   "cell_type": "code",
   "execution_count": 5,
   "metadata": {},
   "outputs": [],
   "source": [
    "# all lengths in units of m\n",
    "tube_length = [0.535, 0.0001]\n",
    "tube_diameter = [0.007, 0.0001]\n",
    "cylinder_length = [0.16, 0.0001]\n",
    "cylinder_diameter = [0.039, 0.0001]\n",
    "piston_length = [.10, 0.0001]\n",
    "piston_diameter = [0.0159, 0.0001]\n",
    "pressure_atm = 101325   # units in (kg)/(m*s^2)\n",
    "mass = [0.0499, 0.0001]\n",
    "mass_piston_platform = [0.0159, 0.00006]"
   ]
  },
  {
   "cell_type": "code",
   "execution_count": 17,
   "metadata": {},
   "outputs": [],
   "source": [
    "def func_force(mass,mass_unc,g=9.80):\n",
    "    force = mass*g\n",
    "    force_unc = (mass_unc/mass)*force\n",
    "    return [force, force_unc]\n",
    "force = func_force(mass[0], mass[1])"
   ]
  },
  {
   "cell_type": "code",
   "execution_count": 8,
   "metadata": {},
   "outputs": [],
   "source": [
    "height1 = np.array([0.080, 0.040, 0.085, 0.098])\n",
    "height2 = np.array([0.080, 0.041, 0.071, 0.078])\n",
    "height3 = np.array([0.080, 0.035, 0.055, 0.065])\n",
    "height_unc = np.empty(4); height_unc.fill(0.0001)"
   ]
  },
  {
   "cell_type": "code",
   "execution_count": null,
   "metadata": {},
   "outputs": [],
   "source": [
    "area1 = "
   ]
  },
  {
   "cell_type": "code",
   "execution_count": 10,
   "metadata": {},
   "outputs": [
    {
     "data": {
      "text/html": [
       "<div>\n",
       "<style scoped>\n",
       "    .dataframe tbody tr th:only-of-type {\n",
       "        vertical-align: middle;\n",
       "    }\n",
       "\n",
       "    .dataframe tbody tr th {\n",
       "        vertical-align: top;\n",
       "    }\n",
       "\n",
       "    .dataframe thead th {\n",
       "        text-align: right;\n",
       "    }\n",
       "</style>\n",
       "<table border=\"1\" class=\"dataframe\">\n",
       "  <thead>\n",
       "    <tr style=\"text-align: right;\">\n",
       "      <th></th>\n",
       "      <th>Points</th>\n",
       "      <th>Piston Height 1</th>\n",
       "      <th>Piston Height 2</th>\n",
       "      <th>Piston Height 3</th>\n",
       "    </tr>\n",
       "  </thead>\n",
       "  <tbody>\n",
       "    <tr>\n",
       "      <th>0</th>\n",
       "      <td>A</td>\n",
       "      <td>0.080</td>\n",
       "      <td>0.080</td>\n",
       "      <td>0.080</td>\n",
       "    </tr>\n",
       "    <tr>\n",
       "      <th>1</th>\n",
       "      <td>B</td>\n",
       "      <td>0.040</td>\n",
       "      <td>0.041</td>\n",
       "      <td>0.035</td>\n",
       "    </tr>\n",
       "    <tr>\n",
       "      <th>2</th>\n",
       "      <td>C</td>\n",
       "      <td>0.085</td>\n",
       "      <td>0.071</td>\n",
       "      <td>0.055</td>\n",
       "    </tr>\n",
       "    <tr>\n",
       "      <th>3</th>\n",
       "      <td>D</td>\n",
       "      <td>0.098</td>\n",
       "      <td>0.078</td>\n",
       "      <td>0.065</td>\n",
       "    </tr>\n",
       "  </tbody>\n",
       "</table>\n",
       "</div>"
      ],
      "text/plain": [
       "  Points  Piston Height 1  Piston Height 2  Piston Height 3\n",
       "0      A            0.080            0.080            0.080\n",
       "1      B            0.040            0.041            0.035\n",
       "2      C            0.085            0.071            0.055\n",
       "3      D            0.098            0.078            0.065"
      ]
     },
     "execution_count": 10,
     "metadata": {},
     "output_type": "execute_result"
    }
   ],
   "source": [
    "points = ['A', 'B', 'C', 'D']\n",
    "df=pd.DataFrame(data={'Points': points,\n",
    "                      'Piston Height 1': height1,\n",
    "                      'Piston Height 2': height2,\n",
    "                      'Piston Height 3': height3})\n",
    "df"
   ]
  },
  {
   "cell_type": "code",
   "execution_count": 18,
   "metadata": {},
   "outputs": [],
   "source": []
  },
  {
   "cell_type": "code",
   "execution_count": null,
   "metadata": {},
   "outputs": [],
   "source": []
  }
 ],
 "metadata": {
  "kernelspec": {
   "display_name": "Python 3",
   "language": "python",
   "name": "python3"
  },
  "language_info": {
   "codemirror_mode": {
    "name": "ipython",
    "version": 3
   },
   "file_extension": ".py",
   "mimetype": "text/x-python",
   "name": "python",
   "nbconvert_exporter": "python",
   "pygments_lexer": "ipython3",
   "version": "3.6.5"
  }
 },
 "nbformat": 4,
 "nbformat_minor": 2
}
