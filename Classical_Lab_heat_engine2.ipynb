{
 "cells": [
  {
   "cell_type": "code",
   "execution_count": 24,
   "metadata": {},
   "outputs": [],
   "source": [
    "import numpy as np\n",
    "import pandas as pd\n",
    "import matplotlib.pyplot as plt\n",
    "from scipy.integrate import quad"
   ]
  },
  {
   "cell_type": "markdown",
   "metadata": {},
   "source": [
    "### Formulas"
   ]
  },
  {
   "cell_type": "code",
   "execution_count": 5,
   "metadata": {},
   "outputs": [],
   "source": [
    "def formating(x, text_val):\n",
    "    print('{0}: {1:.6f} ± {2:.6f}'.format(text_val, x[0],x[1])) \n",
    "\n",
    "def formating_unc(value, unc, title):\n",
    "    structure = '{0:.7f} ± {1:.7f}'\n",
    "    print(title)\n",
    "    for i,j in zip(value,unc):\n",
    "        print(structure.format(i,j))\n",
    "        \n",
    "def func_pressure(force,force_unc,area,area_unc,pressure_atm):\n",
    "    pressure = force/area + pressure_atm\n",
    "    pressure_unc_pct = np.sqrt((force_unc/force)**2+(area_unc/area)**2)\n",
    "    pressure_unc = pressure * pressure_unc_pct\n",
    "    return pressure, pressure_unc\n",
    "\n",
    "def func_area(diameter,diameter_unc):\n",
    "    radius = diameter/2\n",
    "    radius_unc_pct = np.sqrt((diameter_unc/diameter)**2+(diameter_unc/diameter)**2)\n",
    "    area = np.pi*(radius**2)\n",
    "    area_unc = area*radius_unc_pct\n",
    "    return [area, area_unc]\n",
    "\n",
    "def func_volume(Area, Area_unc, height, height_unc):\n",
    "    volume = Area*height\n",
    "    volume_unc_pct = np.sqrt((Area_unc/Area)**2+(height_unc/height)**2)\n",
    "    volume_unc = volume * volume_unc_pct\n",
    "    return volume, volume_unc  \n",
    "\n",
    "def func_force(mass,mass_unc,g=9.80):\n",
    "    force = mass*g\n",
    "    force_unc = (mass_unc/mass)*force\n",
    "    return [force, force_unc]\n"
   ]
  },
  {
   "cell_type": "markdown",
   "metadata": {},
   "source": [
    "### Given values"
   ]
  },
  {
   "cell_type": "code",
   "execution_count": 6,
   "metadata": {},
   "outputs": [],
   "source": [
    "# all lengths in units of m\n",
    "tube_length = [0.535, 0.0001]\n",
    "tube_diameter = [0.007, 0.0001]\n",
    "cylinder_length = [0.16, 0.0001]\n",
    "cylinder_diameter = [0.039, 0.0001]\n",
    "piston_length = [.10, 0.0001]\n",
    "piston_diameter = [0.0159, 0.0001]\n",
    "pressure_atm = 101325   # units in (kg)/(m*s^2)\n",
    "mass = [0.0499, 0.0001]\n",
    "mass_piston_platform = [0.0159, 0.00006]"
   ]
  },
  {
   "cell_type": "code",
   "execution_count": 7,
   "metadata": {},
   "outputs": [],
   "source": [
    "force = func_force(mass[0], mass[1])"
   ]
  },
  {
   "cell_type": "code",
   "execution_count": 8,
   "metadata": {},
   "outputs": [
    {
     "name": "stdout",
     "output_type": "stream",
     "text": [
      "Area of Cylinder(m^2): 0.001195 ± 0.000004\n"
     ]
    }
   ],
   "source": [
    "area_of_cylinder = func_area(cylinder_diameter[0],cylinder_diameter[1])\n",
    "formating(area_of_cylinder,'Area of Cylinder(m^2)')"
   ]
  },
  {
   "cell_type": "markdown",
   "metadata": {},
   "source": [
    "### Part 1"
   ]
  },
  {
   "cell_type": "code",
   "execution_count": 9,
   "metadata": {},
   "outputs": [],
   "source": [
    "height1 = np.array([0.080, 0.040, 0.085, 0.098, 0.080])\n",
    "height2 = np.array([0.080, 0.041, 0.071, 0.078, 0.080])\n",
    "height3 = np.array([0.080, 0.035, 0.055, 0.065, 0.080])\n",
    "height_unc = np.empty(5); height_unc.fill(0.0001)"
   ]
  },
  {
   "cell_type": "code",
   "execution_count": 10,
   "metadata": {},
   "outputs": [
    {
     "name": "stdout",
     "output_type": "stream",
     "text": [
      "Height Average(m)\n",
      "0.0800000 ± 0.0001732\n",
      "0.0386667 ± 0.0001732\n",
      "0.0703333 ± 0.0001732\n",
      "0.0803333 ± 0.0001732\n",
      "0.0800000 ± 0.0001732\n"
     ]
    }
   ],
   "source": [
    "heights = []\n",
    "for i,j,k in zip(height1, height2, height3):\n",
    "    avg = (i+j+k)/3\n",
    "    heights.append(avg)\n",
    "heights_unc = []\n",
    "for i in height_unc:\n",
    "    unc = np.sqrt(i**2+i**2+i**2)\n",
    "    heights_unc.append(unc)\n",
    "height_avg = np.array(heights)\n",
    "height_avg_unc = np.array(heights_unc)\n",
    "formating_unc(height_avg, height_avg_unc, 'Height Average(m)')"
   ]
  },
  {
   "cell_type": "code",
   "execution_count": 11,
   "metadata": {},
   "outputs": [
    {
     "name": "stdout",
     "output_type": "stream",
     "text": [
      "Volume Average(m^3)\n",
      "0.0000956 ± 0.0000004\n",
      "0.0000462 ± 0.0000003\n",
      "0.0000840 ± 0.0000004\n",
      "0.0000960 ± 0.0000004\n",
      "0.0000956 ± 0.0000004\n"
     ]
    }
   ],
   "source": [
    "volume_avg, volume_avg_unc = func_volume(area_of_cylinder[0], area_of_cylinder[1],\n",
    "                                        height_avg, height_avg_unc)\n",
    "formating_unc(volume_avg, volume_avg_unc, 'Volume Average(m^3)')"
   ]
  },
  {
   "cell_type": "code",
   "execution_count": 12,
   "metadata": {},
   "outputs": [],
   "source": [
    "volume1, volume1_unc = func_volume(area_of_cylinder[0], area_of_cylinder[1],\n",
    "                                  height1,height_unc)\n",
    "volume2, volume2_unc = func_volume(area_of_cylinder[0], area_of_cylinder[1],\n",
    "                                  height2,height_unc)\n",
    "volume3, volume3_unc = func_volume(area_of_cylinder[0], area_of_cylinder[1],\n",
    "                                  height3,height_unc)"
   ]
  },
  {
   "cell_type": "code",
   "execution_count": 13,
   "metadata": {},
   "outputs": [],
   "source": [
    "pressure, pressure_unc = func_pressure(force[0],force[1],\n",
    "                                      area_of_cylinder[0],area_of_cylinder[1],\n",
    "                                      pressure_atm)\n",
    "vec_pressure = np.array([0, pressure, pressure, 0, 0])\n",
    "vec_pressure_unc = np.array([0, pressure_unc, pressure_unc, 0, 0])"
   ]
  },
  {
   "cell_type": "markdown",
   "metadata": {},
   "source": [
    "### Plots"
   ]
  },
  {
   "cell_type": "code",
   "execution_count": 14,
   "metadata": {
    "scrolled": true
   },
   "outputs": [
    {
     "data": {
      "text/html": [
       "<div>\n",
       "<style scoped>\n",
       "    .dataframe tbody tr th:only-of-type {\n",
       "        vertical-align: middle;\n",
       "    }\n",
       "\n",
       "    .dataframe tbody tr th {\n",
       "        vertical-align: top;\n",
       "    }\n",
       "\n",
       "    .dataframe thead th {\n",
       "        text-align: right;\n",
       "    }\n",
       "</style>\n",
       "<table border=\"1\" class=\"dataframe\">\n",
       "  <thead>\n",
       "    <tr style=\"text-align: right;\">\n",
       "      <th></th>\n",
       "      <th>Engine Cycle Points</th>\n",
       "      <th>Piston Height 1</th>\n",
       "      <th>Piston Height 2</th>\n",
       "      <th>Piston Height 3</th>\n",
       "      <th>Volume 1</th>\n",
       "      <th>Vol 1 Unc</th>\n",
       "      <th>Volume 2</th>\n",
       "      <th>Vol 2 Unc</th>\n",
       "      <th>Volume 3</th>\n",
       "      <th>Vol 3 Unc</th>\n",
       "      <th>Pressure</th>\n",
       "      <th>Pressure Unc</th>\n",
       "    </tr>\n",
       "  </thead>\n",
       "  <tbody>\n",
       "    <tr>\n",
       "      <th>0</th>\n",
       "      <td>A</td>\n",
       "      <td>0.080</td>\n",
       "      <td>0.080</td>\n",
       "      <td>0.080</td>\n",
       "      <td>0.000096</td>\n",
       "      <td>3.665567e-07</td>\n",
       "      <td>0.000096</td>\n",
       "      <td>3.665567e-07</td>\n",
       "      <td>0.000096</td>\n",
       "      <td>3.665567e-07</td>\n",
       "      <td>0.000</td>\n",
       "      <td>0.000000</td>\n",
       "    </tr>\n",
       "    <tr>\n",
       "      <th>1</th>\n",
       "      <td>B</td>\n",
       "      <td>0.040</td>\n",
       "      <td>0.041</td>\n",
       "      <td>0.035</td>\n",
       "      <td>0.000048</td>\n",
       "      <td>2.104609e-07</td>\n",
       "      <td>0.000049</td>\n",
       "      <td>2.140414e-07</td>\n",
       "      <td>0.000042</td>\n",
       "      <td>1.930209e-07</td>\n",
       "      <td>101734.362</td>\n",
       "      <td>421.495812</td>\n",
       "    </tr>\n",
       "    <tr>\n",
       "      <th>2</th>\n",
       "      <td>C</td>\n",
       "      <td>0.085</td>\n",
       "      <td>0.071</td>\n",
       "      <td>0.055</td>\n",
       "      <td>0.000102</td>\n",
       "      <td>3.870977e-07</td>\n",
       "      <td>0.000085</td>\n",
       "      <td>3.299435e-07</td>\n",
       "      <td>0.000066</td>\n",
       "      <td>2.665208e-07</td>\n",
       "      <td>101734.362</td>\n",
       "      <td>421.495812</td>\n",
       "    </tr>\n",
       "    <tr>\n",
       "      <th>3</th>\n",
       "      <td>D</td>\n",
       "      <td>0.098</td>\n",
       "      <td>0.078</td>\n",
       "      <td>0.065</td>\n",
       "      <td>0.000117</td>\n",
       "      <td>4.410052e-07</td>\n",
       "      <td>0.000093</td>\n",
       "      <td>3.583772e-07</td>\n",
       "      <td>0.000078</td>\n",
       "      <td>3.058608e-07</td>\n",
       "      <td>0.000</td>\n",
       "      <td>0.000000</td>\n",
       "    </tr>\n",
       "    <tr>\n",
       "      <th>4</th>\n",
       "      <td>A</td>\n",
       "      <td>0.080</td>\n",
       "      <td>0.080</td>\n",
       "      <td>0.080</td>\n",
       "      <td>0.000096</td>\n",
       "      <td>3.665567e-07</td>\n",
       "      <td>0.000096</td>\n",
       "      <td>3.665567e-07</td>\n",
       "      <td>0.000096</td>\n",
       "      <td>3.665567e-07</td>\n",
       "      <td>0.000</td>\n",
       "      <td>0.000000</td>\n",
       "    </tr>\n",
       "  </tbody>\n",
       "</table>\n",
       "</div>"
      ],
      "text/plain": [
       "  Engine Cycle Points  Piston Height 1  Piston Height 2  Piston Height 3  \\\n",
       "0                   A            0.080            0.080            0.080   \n",
       "1                   B            0.040            0.041            0.035   \n",
       "2                   C            0.085            0.071            0.055   \n",
       "3                   D            0.098            0.078            0.065   \n",
       "4                   A            0.080            0.080            0.080   \n",
       "\n",
       "   Volume 1     Vol 1 Unc  Volume 2     Vol 2 Unc  Volume 3     Vol 3 Unc  \\\n",
       "0  0.000096  3.665567e-07  0.000096  3.665567e-07  0.000096  3.665567e-07   \n",
       "1  0.000048  2.104609e-07  0.000049  2.140414e-07  0.000042  1.930209e-07   \n",
       "2  0.000102  3.870977e-07  0.000085  3.299435e-07  0.000066  2.665208e-07   \n",
       "3  0.000117  4.410052e-07  0.000093  3.583772e-07  0.000078  3.058608e-07   \n",
       "4  0.000096  3.665567e-07  0.000096  3.665567e-07  0.000096  3.665567e-07   \n",
       "\n",
       "     Pressure  Pressure Unc  \n",
       "0       0.000      0.000000  \n",
       "1  101734.362    421.495812  \n",
       "2  101734.362    421.495812  \n",
       "3       0.000      0.000000  \n",
       "4       0.000      0.000000  "
      ]
     },
     "execution_count": 14,
     "metadata": {},
     "output_type": "execute_result"
    }
   ],
   "source": [
    "points = ['A', 'B', 'C', 'D', 'A']\n",
    "df=pd.DataFrame(data={'Engine Cycle Points': points,\n",
    "                      'Piston Height 1': height1,\n",
    "                      'Piston Height 2': height2,\n",
    "                      'Piston Height 3': height3,\n",
    "                      'Volume 1':volume1,'Vol 1 Unc':volume1_unc,\n",
    "                      'Volume 2':volume2,'Vol 2 Unc':volume2_unc,\n",
    "                      'Volume 3':volume3,'Vol 3 Unc':volume3_unc,\n",
    "                      'Pressure':vec_pressure,'Pressure Unc':vec_pressure_unc})\n",
    "df"
   ]
  },
  {
   "cell_type": "code",
   "execution_count": 15,
   "metadata": {},
   "outputs": [
    {
     "data": {
      "text/html": [
       "<div>\n",
       "<style scoped>\n",
       "    .dataframe tbody tr th:only-of-type {\n",
       "        vertical-align: middle;\n",
       "    }\n",
       "\n",
       "    .dataframe tbody tr th {\n",
       "        vertical-align: top;\n",
       "    }\n",
       "\n",
       "    .dataframe thead th {\n",
       "        text-align: right;\n",
       "    }\n",
       "</style>\n",
       "<table border=\"1\" class=\"dataframe\">\n",
       "  <thead>\n",
       "    <tr style=\"text-align: right;\">\n",
       "      <th></th>\n",
       "      <th>Engine Cycle Points</th>\n",
       "      <th>Piston Height Average</th>\n",
       "      <th>Piston Height Avg Unc</th>\n",
       "      <th>Volume Average</th>\n",
       "      <th>Volume Avg Unc</th>\n",
       "      <th>Pressure</th>\n",
       "      <th>Pressure Unc</th>\n",
       "    </tr>\n",
       "  </thead>\n",
       "  <tbody>\n",
       "    <tr>\n",
       "      <th>0</th>\n",
       "      <td>A</td>\n",
       "      <td>0.080000</td>\n",
       "      <td>0.000173</td>\n",
       "      <td>0.000096</td>\n",
       "      <td>4.036146e-07</td>\n",
       "      <td>0.000</td>\n",
       "      <td>0.000000</td>\n",
       "    </tr>\n",
       "    <tr>\n",
       "      <th>1</th>\n",
       "      <td>B</td>\n",
       "      <td>0.038667</td>\n",
       "      <td>0.000173</td>\n",
       "      <td>0.000046</td>\n",
       "      <td>2.662077e-07</td>\n",
       "      <td>101734.362</td>\n",
       "      <td>421.495812</td>\n",
       "    </tr>\n",
       "    <tr>\n",
       "      <th>2</th>\n",
       "      <td>C</td>\n",
       "      <td>0.070333</td>\n",
       "      <td>0.000173</td>\n",
       "      <td>0.000084</td>\n",
       "      <td>3.682874e-07</td>\n",
       "      <td>101734.362</td>\n",
       "      <td>421.495812</td>\n",
       "    </tr>\n",
       "    <tr>\n",
       "      <th>3</th>\n",
       "      <td>D</td>\n",
       "      <td>0.080333</td>\n",
       "      <td>0.000173</td>\n",
       "      <td>0.000096</td>\n",
       "      <td>4.048550e-07</td>\n",
       "      <td>0.000</td>\n",
       "      <td>0.000000</td>\n",
       "    </tr>\n",
       "    <tr>\n",
       "      <th>4</th>\n",
       "      <td>A</td>\n",
       "      <td>0.080000</td>\n",
       "      <td>0.000173</td>\n",
       "      <td>0.000096</td>\n",
       "      <td>4.036146e-07</td>\n",
       "      <td>0.000</td>\n",
       "      <td>0.000000</td>\n",
       "    </tr>\n",
       "  </tbody>\n",
       "</table>\n",
       "</div>"
      ],
      "text/plain": [
       "  Engine Cycle Points  Piston Height Average  Piston Height Avg Unc  \\\n",
       "0                   A               0.080000               0.000173   \n",
       "1                   B               0.038667               0.000173   \n",
       "2                   C               0.070333               0.000173   \n",
       "3                   D               0.080333               0.000173   \n",
       "4                   A               0.080000               0.000173   \n",
       "\n",
       "   Volume Average  Volume Avg Unc    Pressure  Pressure Unc  \n",
       "0        0.000096    4.036146e-07       0.000      0.000000  \n",
       "1        0.000046    2.662077e-07  101734.362    421.495812  \n",
       "2        0.000084    3.682874e-07  101734.362    421.495812  \n",
       "3        0.000096    4.048550e-07       0.000      0.000000  \n",
       "4        0.000096    4.036146e-07       0.000      0.000000  "
      ]
     },
     "execution_count": 15,
     "metadata": {},
     "output_type": "execute_result"
    }
   ],
   "source": [
    "df2 = pd.DataFrame(data={'Engine Cycle Points':points,\n",
    "                         'Piston Height Average':height_avg,\n",
    "                         'Piston Height Avg Unc':height_avg_unc,\n",
    "                         'Volume Average':volume_avg,\n",
    "                         'Volume Avg Unc':volume_avg_unc,\n",
    "                        'Pressure':vec_pressure,\n",
    "                        'Pressure Unc':vec_pressure_unc})\n",
    "df2"
   ]
  },
  {
   "cell_type": "code",
   "execution_count": 16,
   "metadata": {},
   "outputs": [
    {
     "data": {
      "image/png": "[encoded data removed]",
      "text/plain": [
       "<Figure size 432x288 with 1 Axes>"
      ]
     },
     "metadata": {},
     "output_type": "display_data"
    }
   ],
   "source": [
    "# Average Height\n",
    "plt.scatter(df2['Volume Average'],df2['Pressure'])\n",
    "plt.plot(df2['Volume Average'],df2['Pressure'])\n",
    "plt.axis([0.000020,0.000125,-10000,110000])\n",
    "plt.xlabel('Volume Avg (m^3)')\n",
    "plt.ylabel('Pressure')\n",
    "plt.show()"
   ]
  },
  {
   "cell_type": "code",
   "execution_count": 55,
   "metadata": {},
   "outputs": [
    {
     "data": {
      "image/png": "[encoded data removed]",
      "text/plain": [
       "<Figure size 432x288 with 1 Axes>"
      ]
     },
     "metadata": {},
     "output_type": "display_data"
    }
   ],
   "source": [
    "# Trial 1\n",
    "plt.scatter(df['Volume 1'],df['Pressure'])\n",
    "plt.plot(df['Volume 1'],df['Pressure'])\n",
    "plt.axis([0.000020,0.000125,-10000,110000])\n",
    "plt.xlabel('Volume Avg (m^3)')\n",
    "plt.ylabel('Pressure')\n",
    "plt.title('Trial 1')\n",
    "plt.show()"
   ]
  },
  {
   "cell_type": "code",
   "execution_count": 56,
   "metadata": {},
   "outputs": [
    {
     "data": {
      "image/png": "[encoded data removed]",
      "text/plain": [
       "<Figure size 432x288 with 1 Axes>"
      ]
     },
     "metadata": {},
     "output_type": "display_data"
    }
   ],
   "source": [
    "# Trial 2\n",
    "plt.scatter(df['Volume 2'],df['Pressure'])\n",
    "plt.plot(df['Volume 2'],df['Pressure'])\n",
    "plt.axis([0.000035,0.000100,-10000,110000])\n",
    "plt.xlabel('Volume Avg (m^3)')\n",
    "plt.ylabel('Pressure')\n",
    "plt.title('Trial 2')\n",
    "plt.show()"
   ]
  },
  {
   "cell_type": "code",
   "execution_count": 57,
   "metadata": {},
   "outputs": [
    {
     "data": {
      "image/png": "[encoded data removed]",
      "text/plain": [
       "<Figure size 432x288 with 1 Axes>"
      ]
     },
     "metadata": {},
     "output_type": "display_data"
    }
   ],
   "source": [
    "# Trial 3\n",
    "plt.scatter(df['Volume 3'],df['Pressure'])\n",
    "plt.plot(df['Volume 3'],df['Pressure'])\n",
    "plt.axis([0.000020,0.000125,-10000,110000])\n",
    "plt.xlabel('Volume Avg (m^3)')\n",
    "plt.ylabel('Pressure')\n",
    "plt.title('Trial 3')\n",
    "plt.show()"
   ]
  },
  {
   "cell_type": "markdown",
   "metadata": {},
   "source": [
    "### Part 2"
   ]
  },
  {
   "cell_type": "code",
   "execution_count": 23,
   "metadata": {},
   "outputs": [
    {
     "data": {
      "text/html": [
       "<div>\n",
       "<style scoped>\n",
       "    .dataframe tbody tr th:only-of-type {\n",
       "        vertical-align: middle;\n",
       "    }\n",
       "\n",
       "    .dataframe tbody tr th {\n",
       "        vertical-align: top;\n",
       "    }\n",
       "\n",
       "    .dataframe thead th {\n",
       "        text-align: right;\n",
       "    }\n",
       "</style>\n",
       "<table border=\"1\" class=\"dataframe\">\n",
       "  <thead>\n",
       "    <tr style=\"text-align: right;\">\n",
       "      <th></th>\n",
       "      <th>Engine Cycle Points</th>\n",
       "      <th>Piston Height 1</th>\n",
       "      <th>Volume 1</th>\n",
       "      <th>Vol 1 Unc</th>\n",
       "      <th>Pressure</th>\n",
       "      <th>Pressure Unc</th>\n",
       "    </tr>\n",
       "  </thead>\n",
       "  <tbody>\n",
       "    <tr>\n",
       "      <th>0</th>\n",
       "      <td>A</td>\n",
       "      <td>0.080</td>\n",
       "      <td>0.000096</td>\n",
       "      <td>3.665567e-07</td>\n",
       "      <td>0.000</td>\n",
       "      <td>0.000000</td>\n",
       "    </tr>\n",
       "    <tr>\n",
       "      <th>1</th>\n",
       "      <td>B</td>\n",
       "      <td>0.040</td>\n",
       "      <td>0.000048</td>\n",
       "      <td>2.104609e-07</td>\n",
       "      <td>101734.362</td>\n",
       "      <td>421.495812</td>\n",
       "    </tr>\n",
       "    <tr>\n",
       "      <th>2</th>\n",
       "      <td>C</td>\n",
       "      <td>0.085</td>\n",
       "      <td>0.000102</td>\n",
       "      <td>3.870977e-07</td>\n",
       "      <td>101734.362</td>\n",
       "      <td>421.495812</td>\n",
       "    </tr>\n",
       "    <tr>\n",
       "      <th>3</th>\n",
       "      <td>D</td>\n",
       "      <td>0.098</td>\n",
       "      <td>0.000117</td>\n",
       "      <td>4.410052e-07</td>\n",
       "      <td>0.000</td>\n",
       "      <td>0.000000</td>\n",
       "    </tr>\n",
       "    <tr>\n",
       "      <th>4</th>\n",
       "      <td>A</td>\n",
       "      <td>0.080</td>\n",
       "      <td>0.000096</td>\n",
       "      <td>3.665567e-07</td>\n",
       "      <td>0.000</td>\n",
       "      <td>0.000000</td>\n",
       "    </tr>\n",
       "  </tbody>\n",
       "</table>\n",
       "</div>"
      ],
      "text/plain": [
       "  Engine Cycle Points  Piston Height 1  Volume 1     Vol 1 Unc    Pressure  \\\n",
       "0                   A            0.080  0.000096  3.665567e-07       0.000   \n",
       "1                   B            0.040  0.000048  2.104609e-07  101734.362   \n",
       "2                   C            0.085  0.000102  3.870977e-07  101734.362   \n",
       "3                   D            0.098  0.000117  4.410052e-07       0.000   \n",
       "4                   A            0.080  0.000096  3.665567e-07       0.000   \n",
       "\n",
       "   Pressure Unc  \n",
       "0      0.000000  \n",
       "1    421.495812  \n",
       "2    421.495812  \n",
       "3      0.000000  \n",
       "4      0.000000  "
      ]
     },
     "execution_count": 23,
     "metadata": {},
     "output_type": "execute_result"
    }
   ],
   "source": [
    "# Proceed with trial 1 data\n",
    "df1 = df.iloc[:,[0,1,4,5,10,11]]\n",
    "df1"
   ]
  },
  {
   "cell_type": "code",
   "execution_count": 52,
   "metadata": {},
   "outputs": [],
   "source": [
    "def integrand(x,p):\n",
    "    return p"
   ]
  },
  {
   "cell_type": "code",
   "execution_count": 51,
   "metadata": {
    "scrolled": true
   },
   "outputs": [
    {
     "name": "stdout",
     "output_type": "stream",
     "text": [
      "-0.0\n",
      "5.468891094288039\n",
      "1.5799018716832116\n",
      "-0.0\n",
      "Total Area enclosed:  7.04879296597125\n"
     ]
    }
   ],
   "source": [
    "total_area = 0\n",
    "for i in range(len(df1)-1):\n",
    "    p = float(df1['Pressure'][i])\n",
    "    lower_bound = float(df1['Volume 1'][i])\n",
    "    upper_bound = float(df1['Volume 1'][i+1])\n",
    "    ans = quad(integrand, lower_bound, upper_bound, args=(p))\n",
    "    total_area += ans[0]\n",
    "    print(ans[0])\n",
    "print('Total Area enclosed: ', total_work)"
   ]
  }
 ],
 "metadata": {
  "kernelspec": {
   "display_name": "Python 3",
   "language": "python",
   "name": "python3"
  },
  "language_info": {
   "codemirror_mode": {
    "name": "ipython",
    "version": 3
   },
   "file_extension": ".py",
   "mimetype": "text/x-python",
   "name": "python",
   "nbconvert_exporter": "python",
   "pygments_lexer": "ipython3",
   "version": "3.6.5"
  }
 },
 "nbformat": 4,
 "nbformat_minor": 2
}
