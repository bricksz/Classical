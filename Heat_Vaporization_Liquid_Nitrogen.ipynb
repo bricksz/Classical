{
 "cells": [
  {
   "cell_type": "markdown",
   "metadata": {},
   "source": [
    "# Terry Huang <br> PHY 230"
   ]
  },
  {
   "cell_type": "markdown",
   "metadata": {},
   "source": [
    "# Introduction: Determine the Heat of Vaporization of Liquid $N_{2}$\n",
    "The normal boiling point of liquid nitrogen is 77°K (or -320°F). Since this is much colder than room temperature, liquid nitrogen boils or vaporize easily. <br><br>This experiment will observe the change of state from liquid to vapor or gas."
   ]
  },
  {
   "cell_type": "markdown",
   "metadata": {},
   "source": [
    "### Heat added to an Isolated System\n",
    "Suppose it takes $Q$ heat(in Joules) to vaporize $m$ kilograms of liquid nitrogen.\n",
    "Then the latent heat of vaporization $L$ is defined by <br><br> $$\\ Q = mL $$ <br>\n",
    "provided the system in isolation. If this process happens in a time $t$, then, <br><br> $$\\frac{Q}{t}=L\\frac{m}{t}$$ <br>\n",
    "Define $μ$ rate of liquid nitrogen mass is vaporized, <br> $$μ=\\frac{m}{t}$$ <br>\n",
    "The liquid nitrogen is placed in a styrofoam cup on a balance and the mass of the cup plus nitrogen is\n",
    "recorded (and graphed) as a function of time. The mass should be recorded at say 10 second intervals.\n",
    "The graph of mass versus time is linear and the slope is just $μ$. Next define $P$ as the rate heat is added to\n",
    "the liquid nitrogen <br><br> $$P=\\frac{Q}{t}$$ <br>\n",
    "$P=\\frac{Q}{t}$ has units of $\\frac{J}{s}$ (Joules/Sec) or $W$ (Watts) and is the power added to the system in the form heat energy since\n",
    "a resistor is immersed in the liquid nitrogen. The current $I$ through the resistor is measured with an\n",
    "ammeter and the voltage $V$ is also measured so the power dissipated in the resistor is given by $P=IV$. <br>\n",
    "And then using the equations above on to $\\frac{Q}{t}=L\\frac{m}{t}$ we get, <br><br> $$P=μL$$ <br>\n",
    "Thus solving for $L$ yields, $$L=\\frac{P}{μ}$$"
   ]
  },
  {
   "cell_type": "markdown",
   "metadata": {},
   "source": [
    "### Non-Isolated System\n",
    "The liquid nitrogen is placed in a styrofoam cup to minimize the amount of heat entering the\n",
    "nitrogen from the room. <br> However, the liquid nitrogen is NOT thermally isolated and this must be taken\n",
    "into account and equation $L=\\frac{P}{μ}$ is modified. The heat Q in equation $Q=mL$ does NOT vaporize the whole mass\n",
    "$m$ since some of this mass $m_{0}$ is vaporized due to heat flowing in from the room. Thus $L=\\frac{P}{μ}$ is\n",
    "replaced by <br><br>\n",
    "$$Q = L (m - m_{0})$$ <br>\n",
    "in the real experiment. <br> Dividing $Q = L (m - m_{0})$ by time $t$ yields, <br><br>\n",
    "$$P = L (μ - μ_{0})$$ <br>\n",
    "where $μ_{0}$ is the rate nitrogen mass is lost with the power to the resistor off. $μ_{0}$ is just the slope of the\n",
    "mass versus time graph  <br><br> Solving for L yields,<br><br> $$L = P(μ - μ_{0})$$ <br><br>"
   ]
  },
  {
   "cell_type": "markdown",
   "metadata": {},
   "source": [
    "# Equipment and Supplies:\n",
    "- Liquid nitrogen\n",
    "- Electronic Balance\n",
    "- DC power source\n",
    "- Multimeter resistor (~$100Ω$ at room temp)\n",
    "- Timer"
   ]
  },
  {
   "cell_type": "markdown",
   "metadata": {},
   "source": [
    "# Procedures:\n",
    "1. Determining the vaporization rate (due to heat flow from room)\n",
    "2. Measure the mass of Liquid $N_{2}$, mass of styrofoam cup\n",
    "3. Evaluate every 10 seconds for 3 minutes"
   ]
  },
  {
   "cell_type": "markdown",
   "metadata": {},
   "source": [
    "# Data and Calculations"
   ]
  },
  {
   "cell_type": "code",
   "execution_count": 74,
   "metadata": {},
   "outputs": [],
   "source": [
    "import numpy as np\n",
    "import pandas as pd\n",
    "import matplotlib.pyplot as plt\n",
    "from scipy import stats\n",
    "%matplotlib inline"
   ]
  },
  {
   "cell_type": "markdown",
   "metadata": {},
   "source": [
    "mass cup = 3.9 gram <br>\n",
    "mass with wires = 15.1 gram"
   ]
  },
  {
   "cell_type": "code",
   "execution_count": 26,
   "metadata": {},
   "outputs": [],
   "source": [
    "t1 = np.array([np.nan,10,20,30,40,\n",
    "      50,60,70,80,90,\n",
    "      100,110,120,130,140,\n",
    "      150,160,170,180])\n",
    "m1 = np.array([0.0,312.2,311.1,309.9,308.8,\n",
    "      307.6,306.5,305.3,304.1,303.0,\n",
    "      301.8,300.7,299.5,298.4,297.2,\n",
    "      296.2,295.1,293.9,292.7])         #Enviorment\n",
    "t2 = np.array([0,10,20,30,40,\n",
    "      50,60,70,80,90,\n",
    "      100,110,120,130,140,\n",
    "      150,160,170,180])\n",
    "m2 = np.array([313.2,311.8,310.4,309.0,307.7,\n",
    "      306.3,305.0,303.6,302.3,300.9,\n",
    "      299.6,298.2,296.9,295.6,294.3,\n",
    "      292.9,291.6,290.3,289.0])         #Heat added"
   ]
  },
  {
   "cell_type": "code",
   "execution_count": 132,
   "metadata": {},
   "outputs": [],
   "source": [
    "df = pd.DataFrame(data={'Time (Environment)':t1,\n",
    "                       'Mass (Environment)':m1,\n",
    "                       'Time (Heat Added)':t2,\n",
    "                       'Mass (Heat Added)':m2})"
   ]
  },
  {
   "cell_type": "code",
   "execution_count": 133,
   "metadata": {},
   "outputs": [
    {
     "data": {
      "text/html": [
       "<div>\n",
       "<style scoped>\n",
       "    .dataframe tbody tr th:only-of-type {\n",
       "        vertical-align: middle;\n",
       "    }\n",
       "\n",
       "    .dataframe tbody tr th {\n",
       "        vertical-align: top;\n",
       "    }\n",
       "\n",
       "    .dataframe thead th {\n",
       "        text-align: right;\n",
       "    }\n",
       "</style>\n",
       "<table border=\"1\" class=\"dataframe\">\n",
       "  <thead>\n",
       "    <tr style=\"text-align: right;\">\n",
       "      <th></th>\n",
       "      <th>Time (Environment)</th>\n",
       "      <th>Mass (Environment)</th>\n",
       "      <th>Time (Heat Added)</th>\n",
       "      <th>Mass (Heat Added)</th>\n",
       "    </tr>\n",
       "  </thead>\n",
       "  <tbody>\n",
       "    <tr>\n",
       "      <th>0</th>\n",
       "      <td>NaN</td>\n",
       "      <td>0.0</td>\n",
       "      <td>0</td>\n",
       "      <td>313.2</td>\n",
       "    </tr>\n",
       "    <tr>\n",
       "      <th>1</th>\n",
       "      <td>10.0</td>\n",
       "      <td>312.2</td>\n",
       "      <td>10</td>\n",
       "      <td>311.8</td>\n",
       "    </tr>\n",
       "    <tr>\n",
       "      <th>2</th>\n",
       "      <td>20.0</td>\n",
       "      <td>311.1</td>\n",
       "      <td>20</td>\n",
       "      <td>310.4</td>\n",
       "    </tr>\n",
       "    <tr>\n",
       "      <th>3</th>\n",
       "      <td>30.0</td>\n",
       "      <td>309.9</td>\n",
       "      <td>30</td>\n",
       "      <td>309.0</td>\n",
       "    </tr>\n",
       "    <tr>\n",
       "      <th>4</th>\n",
       "      <td>40.0</td>\n",
       "      <td>308.8</td>\n",
       "      <td>40</td>\n",
       "      <td>307.7</td>\n",
       "    </tr>\n",
       "    <tr>\n",
       "      <th>5</th>\n",
       "      <td>50.0</td>\n",
       "      <td>307.6</td>\n",
       "      <td>50</td>\n",
       "      <td>306.3</td>\n",
       "    </tr>\n",
       "    <tr>\n",
       "      <th>6</th>\n",
       "      <td>60.0</td>\n",
       "      <td>306.5</td>\n",
       "      <td>60</td>\n",
       "      <td>305.0</td>\n",
       "    </tr>\n",
       "    <tr>\n",
       "      <th>7</th>\n",
       "      <td>70.0</td>\n",
       "      <td>305.3</td>\n",
       "      <td>70</td>\n",
       "      <td>303.6</td>\n",
       "    </tr>\n",
       "    <tr>\n",
       "      <th>8</th>\n",
       "      <td>80.0</td>\n",
       "      <td>304.1</td>\n",
       "      <td>80</td>\n",
       "      <td>302.3</td>\n",
       "    </tr>\n",
       "    <tr>\n",
       "      <th>9</th>\n",
       "      <td>90.0</td>\n",
       "      <td>303.0</td>\n",
       "      <td>90</td>\n",
       "      <td>300.9</td>\n",
       "    </tr>\n",
       "    <tr>\n",
       "      <th>10</th>\n",
       "      <td>100.0</td>\n",
       "      <td>301.8</td>\n",
       "      <td>100</td>\n",
       "      <td>299.6</td>\n",
       "    </tr>\n",
       "    <tr>\n",
       "      <th>11</th>\n",
       "      <td>110.0</td>\n",
       "      <td>300.7</td>\n",
       "      <td>110</td>\n",
       "      <td>298.2</td>\n",
       "    </tr>\n",
       "    <tr>\n",
       "      <th>12</th>\n",
       "      <td>120.0</td>\n",
       "      <td>299.5</td>\n",
       "      <td>120</td>\n",
       "      <td>296.9</td>\n",
       "    </tr>\n",
       "    <tr>\n",
       "      <th>13</th>\n",
       "      <td>130.0</td>\n",
       "      <td>298.4</td>\n",
       "      <td>130</td>\n",
       "      <td>295.6</td>\n",
       "    </tr>\n",
       "    <tr>\n",
       "      <th>14</th>\n",
       "      <td>140.0</td>\n",
       "      <td>297.2</td>\n",
       "      <td>140</td>\n",
       "      <td>294.3</td>\n",
       "    </tr>\n",
       "    <tr>\n",
       "      <th>15</th>\n",
       "      <td>150.0</td>\n",
       "      <td>296.2</td>\n",
       "      <td>150</td>\n",
       "      <td>292.9</td>\n",
       "    </tr>\n",
       "    <tr>\n",
       "      <th>16</th>\n",
       "      <td>160.0</td>\n",
       "      <td>295.1</td>\n",
       "      <td>160</td>\n",
       "      <td>291.6</td>\n",
       "    </tr>\n",
       "    <tr>\n",
       "      <th>17</th>\n",
       "      <td>170.0</td>\n",
       "      <td>293.9</td>\n",
       "      <td>170</td>\n",
       "      <td>290.3</td>\n",
       "    </tr>\n",
       "    <tr>\n",
       "      <th>18</th>\n",
       "      <td>180.0</td>\n",
       "      <td>292.7</td>\n",
       "      <td>180</td>\n",
       "      <td>289.0</td>\n",
       "    </tr>\n",
       "  </tbody>\n",
       "</table>\n",
       "</div>"
      ],
      "text/plain": [
       "    Time (Environment)  Mass (Environment)  Time (Heat Added)  \\\n",
       "0                  NaN                 0.0                  0   \n",
       "1                 10.0               312.2                 10   \n",
       "2                 20.0               311.1                 20   \n",
       "3                 30.0               309.9                 30   \n",
       "4                 40.0               308.8                 40   \n",
       "5                 50.0               307.6                 50   \n",
       "6                 60.0               306.5                 60   \n",
       "7                 70.0               305.3                 70   \n",
       "8                 80.0               304.1                 80   \n",
       "9                 90.0               303.0                 90   \n",
       "10               100.0               301.8                100   \n",
       "11               110.0               300.7                110   \n",
       "12               120.0               299.5                120   \n",
       "13               130.0               298.4                130   \n",
       "14               140.0               297.2                140   \n",
       "15               150.0               296.2                150   \n",
       "16               160.0               295.1                160   \n",
       "17               170.0               293.9                170   \n",
       "18               180.0               292.7                180   \n",
       "\n",
       "    Mass (Heat Added)  \n",
       "0               313.2  \n",
       "1               311.8  \n",
       "2               310.4  \n",
       "3               309.0  \n",
       "4               307.7  \n",
       "5               306.3  \n",
       "6               305.0  \n",
       "7               303.6  \n",
       "8               302.3  \n",
       "9               300.9  \n",
       "10              299.6  \n",
       "11              298.2  \n",
       "12              296.9  \n",
       "13              295.6  \n",
       "14              294.3  \n",
       "15              292.9  \n",
       "16              291.6  \n",
       "17              290.3  \n",
       "18              289.0  "
      ]
     },
     "execution_count": 133,
     "metadata": {},
     "output_type": "execute_result"
    }
   ],
   "source": [
    "df"
   ]
  },
  {
   "cell_type": "markdown",
   "metadata": {},
   "source": [
    "##### All data above has uncertainty of ± 0.01 seconds and ± 0.1 grams"
   ]
  },
  {
   "cell_type": "code",
   "execution_count": 134,
   "metadata": {},
   "outputs": [
    {
     "data": {
      "image/png": "[encoded data removed]",
      "text/plain": [
       "<Figure size 432x288 with 1 Axes>"
      ]
     },
     "metadata": {},
     "output_type": "display_data"
    }
   ],
   "source": [
    "plt.scatter(t1[1:], m1[1:])          # t1[1:] and m1[1:] to skip over NaN value\n",
    "plt.xlabel('Time (Environment)')\n",
    "plt.ylabel('Mass (Environment)')\n",
    "z1 = np.polyfit(t1[1:], m1[1:], 1)\n",
    "p1 = np.poly1d(z1)\n",
    "plt.plot(t1, p1(t1), \"r\")\n",
    "plt.show()"
   ]
  },
  {
   "cell_type": "code",
   "execution_count": 147,
   "metadata": {},
   "outputs": [
    {
     "name": "stdout",
     "output_type": "stream",
     "text": [
      "μ_0 = -0.114675\n"
     ]
    }
   ],
   "source": [
    "slope1, intercept1, r_value1, p_value1, std_err1 = stats.linregress(t1[1:],m1[1:])\n",
    "print('u_0 = {0:.06f}'.format(slope1))"
   ]
  },
  {
   "cell_type": "markdown",
   "metadata": {},
   "source": [
    "### Finding $μ$\n",
    "$μ$ is obtained where power is applied in the experiment."
   ]
  },
  {
   "cell_type": "code",
   "execution_count": 136,
   "metadata": {},
   "outputs": [
    {
     "data": {
      "image/png": "[encoded data removed]",
      "text/plain": [
       "<Figure size 432x288 with 1 Axes>"
      ]
     },
     "metadata": {},
     "output_type": "display_data"
    }
   ],
   "source": [
    "plt.scatter(t2, m2)\n",
    "plt.xlabel('Time (Environment)')\n",
    "plt.ylabel('Mass (Environment)')\n",
    "z2 = np.polyfit(t2, m2, 1)\n",
    "p2 = np.poly1d(z2)\n",
    "plt.plot(t2, p2(t2), \"r\")\n",
    "plt.show()"
   ]
  },
  {
   "cell_type": "code",
   "execution_count": 137,
   "metadata": {},
   "outputs": [
    {
     "name": "stdout",
     "output_type": "stream",
     "text": [
      "μ2 = -0.134316\n"
     ]
    }
   ],
   "source": [
    "slope2, intercept2, r_value2, p_value2, std_err2 = stats.linregress(t2,m2)\n",
    "print('u2 = {0:.06f}'.format(slope2))"
   ]
  },
  {
   "cell_type": "markdown",
   "metadata": {},
   "source": [
    "##### Finding the slope uncertainty \n",
    "Let $μ$ = slope of the plot\n",
    "$$𝛿μ = \\frac{slope_{max}-slope_{min}}{2}$$ <br><br>\n",
    "where $$slope_{min} = \\frac{mass_{min}}{time_{max}}$$ <br> $$slope_{max}=\\frac{mass_{max}}{time_{min}}$$ <br><br>\n",
    "uncertaintly for mass and time is ± 0.1g and ± 0.01s respectively"
   ]
  },
  {
   "cell_type": "code",
   "execution_count": 138,
   "metadata": {},
   "outputs": [],
   "source": [
    "def slope(p1,p2):\n",
    "    return (p2[1]-p1[1])/(p2[0]-p1[0])"
   ]
  },
  {
   "cell_type": "code",
   "execution_count": 139,
   "metadata": {
    "scrolled": true
   },
   "outputs": [
    {
     "name": "stdout",
     "output_type": "stream",
     "text": [
      "Slope_min = -0.133319\n"
     ]
    }
   ],
   "source": [
    "# Slope_min, taking the first point and last point\n",
    "point1_l=[t2[0]-0.01, m2[0]-0.1]\n",
    "point19_u=[t2[18]+0.01, m2[18]+0.1]\n",
    "slope_min = slope(point1_l,point19_u)\n",
    "\n",
    "print('Slope_min = {0:.06f}'.format(slope_min))"
   ]
  },
  {
   "cell_type": "code",
   "execution_count": 140,
   "metadata": {},
   "outputs": [
    {
     "name": "stdout",
     "output_type": "stream",
     "text": [
      "Slope_max = -0.135571\n"
     ]
    }
   ],
   "source": [
    "# Slope_max, taking the first point and last point\n",
    "point1_u=[t2[0]+0.01, m2[0]+0.1]\n",
    "point19_l=[t2[18]-0.01, m2[18]-0.1]\n",
    "slope_max = slope(point1_u,point19_l)\n",
    "\n",
    "print('Slope_max = {0:.06f}'.format(slope_max))"
   ]
  },
  {
   "cell_type": "code",
   "execution_count": 141,
   "metadata": {},
   "outputs": [
    {
     "name": "stdout",
     "output_type": "stream",
     "text": [
      "Slope_unc = ± 0.001126\n"
     ]
    }
   ],
   "source": [
    "slope_unc = abs(slope_max-slope_min)*0.5\n",
    "print('Slope_unc = ± {0:.06f}'.format(slope_unc))"
   ]
  },
  {
   "cell_type": "markdown",
   "metadata": {},
   "source": [
    "##### Error Analysis"
   ]
  },
  {
   "cell_type": "code",
   "execution_count": 158,
   "metadata": {},
   "outputs": [],
   "source": [
    "# functions\n",
    "def func_P(V,I):\n",
    "    ''' Requires array of len 2 '''\n",
    "    P = V[0]*I[0]\n",
    "    P_unc_pct = np.sqrt((V[1]/V[0])**2+(I[1]/I[0])**2)\n",
    "    P_unc = P*P_unc_pct\n",
    "    return [P, abs(P_unc)]\n",
    "\n",
    "def func_L(P, slope_vec):\n",
    "    ''' Requires array of len 2'''\n",
    "    L = P[0]/slope_vec[0]\n",
    "    L_unc_pct = np.sqrt((P[1]/P[0])**2+(slope_vec[1]/slope_vec[0])**2)\n",
    "    L_unc = L*L_unc_pct\n",
    "    return [L, abs(L_unc)]\n",
    "\n",
    "def formating(x, text_val):\n",
    "    ''' Requires array of len 2 '''\n",
    "    print('{0}: {1:.4f} ± {2:.4f}'.format(text_val, x[0],x[1])) "
   ]
  },
  {
   "cell_type": "code",
   "execution_count": 159,
   "metadata": {},
   "outputs": [],
   "source": [
    "# Second value in list is uncertainty\n",
    "V = np.array([20.46, 0.01])    # V\n",
    "I = np.array([196.0, 0.01])    # mA"
   ]
  },
  {
   "cell_type": "code",
   "execution_count": 160,
   "metadata": {},
   "outputs": [
    {
     "name": "stdout",
     "output_type": "stream",
     "text": [
      "power dissipated (W): 4010.1600 ± 1.9706\n"
     ]
    }
   ],
   "source": [
    "P = func_P(V,I)\n",
    "formating(P, 'power dissipated (W)')"
   ]
  },
  {
   "cell_type": "markdown",
   "metadata": {},
   "source": [
    "Where $P=IV=\\frac{Q}{t}$ in $J/s$ or $W$ <br> Then use the slope $μ$ and Power $P$ to find the Latent heat of vaporization $L$ by, <br><br> $$L=\\frac{P}{μ}$$"
   ]
  },
  {
   "cell_type": "code",
   "execution_count": 161,
   "metadata": {},
   "outputs": [
    {
     "name": "stdout",
     "output_type": "stream",
     "text": [
      "Slope = -0.134316\n",
      "Slope_unc = ± 0.001126\n"
     ]
    }
   ],
   "source": [
    "print('Slope = {0:.06f}'.format(slope2))\n",
    "print('Slope_unc = ± {0:.06f}'.format(slope_unc))\n",
    "slope_vec = np.array([slope2,slope_unc])"
   ]
  },
  {
   "cell_type": "code",
   "execution_count": 162,
   "metadata": {},
   "outputs": [
    {
     "name": "stdout",
     "output_type": "stream",
     "text": [
      "Power = 4010.1600\n",
      "Power_unc = 1.9706\n"
     ]
    }
   ],
   "source": [
    "print('Power = {0:.04f}'.format(P[0]))\n",
    "print('Power_unc = {0:.04f}'.format(P[1]))"
   ]
  },
  {
   "cell_type": "code",
   "execution_count": 163,
   "metadata": {},
   "outputs": [
    {
     "name": "stdout",
     "output_type": "stream",
     "text": [
      "latent heat of vaporization (L): -29856.2069 ± 250.7320\n"
     ]
    }
   ],
   "source": [
    "L = func_L(P, slope_vec)\n",
    "formating(L, 'latent heat of vaporization (L)')"
   ]
  },
  {
   "cell_type": "markdown",
   "metadata": {},
   "source": [
    "#### Converting g to kg"
   ]
  },
  {
   "cell_type": "code",
   "execution_count": 167,
   "metadata": {},
   "outputs": [
    {
     "name": "stdout",
     "output_type": "stream",
     "text": [
      "latent heat of vaporization (L): -29.8562 ± 0.2507\n"
     ]
    }
   ],
   "source": [
    "L_kg = np.array(L)/1000\n",
    "formating(L_kg, 'latent heat of vaporization (L)')"
   ]
  },
  {
   "cell_type": "markdown",
   "metadata": {},
   "source": [
    "latent heat of vaporization (L): $-29.8562 ± 0.2507kg$"
   ]
  },
  {
   "cell_type": "code",
   "execution_count": null,
   "metadata": {},
   "outputs": [],
   "source": []
  }
 ],
 "metadata": {
  "kernelspec": {
   "display_name": "Python 3",
   "language": "python",
   "name": "python3"
  },
  "language_info": {
   "codemirror_mode": {
    "name": "ipython",
    "version": 3
   },
   "file_extension": ".py",
   "mimetype": "text/x-python",
   "name": "python",
   "nbconvert_exporter": "python",
   "pygments_lexer": "ipython3",
   "version": "3.6.5"
  }
 },
 "nbformat": 4,
 "nbformat_minor": 1
}
