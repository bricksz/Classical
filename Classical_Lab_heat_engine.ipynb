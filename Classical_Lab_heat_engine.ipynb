{
 "cells": [
  {
   "cell_type": "code",
   "execution_count": 50,
   "metadata": {},
   "outputs": [],
   "source": [
    "import numpy as np\n",
    "import pandas as pd\n",
    "import matplotlib.pyplot as plt"
   ]
  },
  {
   "cell_type": "code",
   "execution_count": 80,
   "metadata": {},
   "outputs": [],
   "source": [
    "def formating(x, text_val):\n",
    "    print('{0}: {1:.6f} ± {2:.6f}'.format(text_val, x[0],x[1]))        \n",
    "    \n",
    "def func_volume(Area, Area_unc, height, height_unc):\n",
    "    volume = Area*height\n",
    "    volume_unc_pct = np.sqrt((Area_unc/Area)**2+(height_unc/height)**2)\n",
    "    volume_unc = volume * volume_unc_pct\n",
    "    return volume, volume_unc   \n",
    "\n",
    "def formating_unc(value, unc, title):\n",
    "    structure = '{0:.7f} ± {1:.7f}'\n",
    "    print(title)\n",
    "    for i,j in zip(value,unc):\n",
    "        print(structure.format(i,j))"
   ]
  },
  {
   "cell_type": "markdown",
   "metadata": {},
   "source": [
    "### Given values"
   ]
  },
  {
   "cell_type": "code",
   "execution_count": 81,
   "metadata": {},
   "outputs": [
    {
     "name": "stdout",
     "output_type": "stream",
     "text": [
      "Radius(m): 0.007950 ± 0.000050\n"
     ]
    }
   ],
   "source": [
    "Diameter = [0.0159, .0001]   # Format [Value, Uncertainty]\n",
    "def diameter_to_radius(Diameter):\n",
    "    radius = Diameter[0]/2\n",
    "    rad_unc = radius * (Diameter[1] / Diameter[0])\n",
    "    return [radius, rad_unc]\n",
    "Radius = diameter_to_radius(Diameter)\n",
    "formating(Radius, 'Radius(m)')"
   ]
  },
  {
   "cell_type": "code",
   "execution_count": 82,
   "metadata": {},
   "outputs": [
    {
     "name": "stdout",
     "output_type": "stream",
     "text": [
      "Area(m): 0.000199 ± 0.000002\n"
     ]
    }
   ],
   "source": [
    "def area_radius(Radius):\n",
    "    rad_unc = Radius[1] / Radius[0]\n",
    "    area = np.pi * Radius[0]**2\n",
    "    area_unc = area*np.sqrt(rad_unc**2+rad_unc**2)\n",
    "    return [area, area_unc]\n",
    "Area = area_radius(Radius)\n",
    "formating(Area, 'Area(m^2)')"
   ]
  },
  {
   "cell_type": "markdown",
   "metadata": {},
   "source": [
    "### Part 1"
   ]
  },
  {
   "cell_type": "code",
   "execution_count": 83,
   "metadata": {},
   "outputs": [],
   "source": [
    "height = np.array([0.100,0.095,0.090,0.087,0.085,\n",
    "                   0.082,0.080,0.075,0.070,0.067])\n",
    "height_unc = np.empty(10); height_unc.fill(0.0001)"
   ]
  },
  {
   "cell_type": "code",
   "execution_count": 84,
   "metadata": {},
   "outputs": [
    {
     "name": "stdout",
     "output_type": "stream",
     "text": [
      "Volume(m^3)\n",
      "0.0000199 ± 0.0000002\n",
      "0.0000189 ± 0.0000002\n",
      "0.0000179 ± 0.0000002\n",
      "0.0000173 ± 0.0000002\n",
      "0.0000169 ± 0.0000002\n",
      "0.0000163 ± 0.0000001\n",
      "0.0000159 ± 0.0000001\n",
      "0.0000149 ± 0.0000001\n",
      "0.0000139 ± 0.0000001\n",
      "0.0000133 ± 0.0000001\n"
     ]
    }
   ],
   "source": [
    "volume, volume_unc = func_volume(Area[0], Area[1], height, height_unc)\n",
    "formating_unc(volume,volume_unc,'Volume(m^3)')"
   ]
  },
  {
   "cell_type": "markdown",
   "metadata": {},
   "source": [
    "### Part 2"
   ]
  },
  {
   "cell_type": "code",
   "execution_count": 87,
   "metadata": {},
   "outputs": [
    {
     "data": {
      "text/html": [
       "<div>\n",
       "<style scoped>\n",
       "    .dataframe tbody tr th:only-of-type {\n",
       "        vertical-align: middle;\n",
       "    }\n",
       "\n",
       "    .dataframe tbody tr th {\n",
       "        vertical-align: top;\n",
       "    }\n",
       "\n",
       "    .dataframe thead th {\n",
       "        text-align: right;\n",
       "    }\n",
       "</style>\n",
       "<table border=\"1\" class=\"dataframe\">\n",
       "  <thead>\n",
       "    <tr style=\"text-align: right;\">\n",
       "      <th></th>\n",
       "      <th>Temp (K)</th>\n",
       "      <th>Height (m)</th>\n",
       "      <th>Volume (m^3)</th>\n",
       "      <th>Volume_unc</th>\n",
       "    </tr>\n",
       "  </thead>\n",
       "  <tbody>\n",
       "    <tr>\n",
       "      <th>0</th>\n",
       "      <td>359.0</td>\n",
       "      <td>0.100</td>\n",
       "      <td>0.000020</td>\n",
       "      <td>1.777173e-07</td>\n",
       "    </tr>\n",
       "    <tr>\n",
       "      <th>1</th>\n",
       "      <td>352.0</td>\n",
       "      <td>0.095</td>\n",
       "      <td>0.000019</td>\n",
       "      <td>1.689452e-07</td>\n",
       "    </tr>\n",
       "    <tr>\n",
       "      <th>2</th>\n",
       "      <td>347.0</td>\n",
       "      <td>0.090</td>\n",
       "      <td>0.000018</td>\n",
       "      <td>1.601795e-07</td>\n",
       "    </tr>\n",
       "    <tr>\n",
       "      <th>3</th>\n",
       "      <td>338.0</td>\n",
       "      <td>0.087</td>\n",
       "      <td>0.000017</td>\n",
       "      <td>1.549237e-07</td>\n",
       "    </tr>\n",
       "    <tr>\n",
       "      <th>4</th>\n",
       "      <td>337.0</td>\n",
       "      <td>0.085</td>\n",
       "      <td>0.000017</td>\n",
       "      <td>1.514214e-07</td>\n",
       "    </tr>\n",
       "    <tr>\n",
       "      <th>5</th>\n",
       "      <td>330.0</td>\n",
       "      <td>0.082</td>\n",
       "      <td>0.000016</td>\n",
       "      <td>1.461706e-07</td>\n",
       "    </tr>\n",
       "    <tr>\n",
       "      <th>6</th>\n",
       "      <td>328.0</td>\n",
       "      <td>0.080</td>\n",
       "      <td>0.000016</td>\n",
       "      <td>1.426721e-07</td>\n",
       "    </tr>\n",
       "    <tr>\n",
       "      <th>7</th>\n",
       "      <td>324.0</td>\n",
       "      <td>0.075</td>\n",
       "      <td>0.000015</td>\n",
       "      <td>1.339334e-07</td>\n",
       "    </tr>\n",
       "    <tr>\n",
       "      <th>8</th>\n",
       "      <td>321.0</td>\n",
       "      <td>0.070</td>\n",
       "      <td>0.000014</td>\n",
       "      <td>1.252076e-07</td>\n",
       "    </tr>\n",
       "    <tr>\n",
       "      <th>9</th>\n",
       "      <td>315.5</td>\n",
       "      <td>0.067</td>\n",
       "      <td>0.000013</td>\n",
       "      <td>1.199795e-07</td>\n",
       "    </tr>\n",
       "  </tbody>\n",
       "</table>\n",
       "</div>"
      ],
      "text/plain": [
       "   Temp (K)  Height (m)  Volume (m^3)    Volume_unc\n",
       "0     359.0       0.100      0.000020  1.777173e-07\n",
       "1     352.0       0.095      0.000019  1.689452e-07\n",
       "2     347.0       0.090      0.000018  1.601795e-07\n",
       "3     338.0       0.087      0.000017  1.549237e-07\n",
       "4     337.0       0.085      0.000017  1.514214e-07\n",
       "5     330.0       0.082      0.000016  1.461706e-07\n",
       "6     328.0       0.080      0.000016  1.426721e-07\n",
       "7     324.0       0.075      0.000015  1.339334e-07\n",
       "8     321.0       0.070      0.000014  1.252076e-07\n",
       "9     315.5       0.067      0.000013  1.199795e-07"
      ]
     },
     "execution_count": 87,
     "metadata": {},
     "output_type": "execute_result"
    }
   ],
   "source": [
    "Temp = np.array([359, 352, 347, 338, 337,\n",
    "                 330, 328, 324, 321, 315.5])   # T in Kelvin\n",
    "df=pd.DataFrame(data={'Temp (K)': Temp,\n",
    "                      'Height (m)': height,\n",
    "                      'Volume (m^3)': volume,\n",
    "                      'Volume_unc': volume_unc})\n",
    "df"
   ]
  },
  {
   "cell_type": "code",
   "execution_count": 104,
   "metadata": {},
   "outputs": [
    {
     "data": {
      "image/png": "[encoded data removed]",
      "text/plain": [
       "<Figure size 432x288 with 1 Axes>"
      ]
     },
     "metadata": {},
     "output_type": "display_data"
    }
   ],
   "source": [
    "# Ploting T vs V\n",
    "plt.scatter(Temp, volume)\n",
    "plt.xlabel('Temperature (Kelvin)')\n",
    "plt.ylabel('Volume (m^3)')\n",
    "z = np.polyfit(Temp, volume, 1)\n",
    "p = np.poly1d(z)\n",
    "plt.plot(Temp, p(Temp), \"r--\")\n",
    "plt.axis([310,365,0.0000125,0.0000205])\n",
    "plt.show()"
   ]
  },
  {
   "cell_type": "code",
   "execution_count": null,
   "metadata": {},
   "outputs": [],
   "source": []
  }
 ],
 "metadata": {
  "kernelspec": {
   "display_name": "Python 3",
   "language": "python",
   "name": "python3"
  },
  "language_info": {
   "codemirror_mode": {
    "name": "ipython",
    "version": 3
   },
   "file_extension": ".py",
   "mimetype": "text/x-python",
   "name": "python",
   "nbconvert_exporter": "python",
   "pygments_lexer": "ipython3",
   "version": "3.6.5"
  }
 },
 "nbformat": 4,
 "nbformat_minor": 2
}
